{
 "cells": [
  {
   "cell_type": "code",
   "execution_count": 1,
   "metadata": {},
   "outputs": [],
   "source": [
    "import pandas as pd\n",
    "import numpy as np"
   ]
  },
  {
   "cell_type": "code",
   "execution_count": 2,
   "metadata": {},
   "outputs": [],
   "source": [
    "df = pd.read_excel('data.xlsx')"
   ]
  },
  {
   "cell_type": "markdown",
   "metadata": {},
   "source": [
    "## Methods\n",
    "\n",
    "We only care about time and activity for this analysis. We have to convert these two columns into the right representation for entering an HSMM. "
   ]
  },
  {
   "cell_type": "code",
   "execution_count": null,
   "metadata": {},
   "outputs": [],
   "source": [
    "# activity mapping. we map activities to a 3-state representation - new, revisit and revise\n",
    "# 'new' means the student moved to look at a new problem, we code it as state 0\n",
    "# 'revisit' means they moved to look at a problem they have seen before, but haven't answered yet, we code it as state 1\n",
    "# 'revise' means they moved to look at a problem they have already marked an answer for before, we code it as state 2\n",
    "\n",
    "df.loc[df['Activity'].str.contains('first time'),'Activity'] = 0\n",
    "\n",
    "df.loc[df['Activity'].str.contains('unanswered question', na=False),'Activity'] = 1\n",
    "\n",
    "df.loc[df['Activity'].str.contains('answered question', na=False),'Activity'] = 2\n",
    "df.loc[df['Activity'].str.contains('marked question', na=False),'Activity'] = 2"
   ]
  },
  {
   "cell_type": "code",
   "execution_count": null,
   "metadata": {},
   "outputs": [],
   "source": [
    "# time fix\n",
    "df = df.assign(Logged_Time=pd.to_datetime(df.Logged_Time))"
   ]
  },
  {
   "cell_type": "code",
   "execution_count": null,
   "metadata": {},
   "outputs": [],
   "source": [
    "student_list = df.Roll_Number.unique()"
   ]
  },
  {
   "cell_type": "code",
   "execution_count": null,
   "metadata": {},
   "outputs": [],
   "source": [
    "new_df = pd.DataFrame(columns = ['id', 'states', 'durations'])"
   ]
  },
  {
   "cell_type": "code",
   "execution_count": null,
   "metadata": {},
   "outputs": [],
   "source": [
    "for student in student_list:\n",
    "    start_index = df.loc[(df.Candidate_Status == 'Exam Started') & (df.Roll_Number == student)].index.values[0]\n",
    "\n",
    "    id = df.loc[(df.Roll_Number == student) & df.Activity.isin([0,1,2])]['Roll_Number'] \n",
    "    states = df.loc[(df.Roll_Number == student) & df.Activity.isin([0,1,2])]['Activity'] \n",
    "    session_times = (df.loc[(df.Roll_Number == student) & df.Activity.isin([0,1,2])]['Logged_Time'] - df.loc[df.Roll_Number == student]['Logged_Time'][start_index]).dt.seconds\n",
    "\n",
    "    durations = abs(session_times.diff(periods=-1))\n",
    "    durations.iloc[-1] = 5\n",
    "    new_df = new_df.append(pd.DataFrame({'id': id, 'states': states, 'durations': durations}).reset_index().drop('index',axis=1), sort=False)"
   ]
  },
  {
   "cell_type": "code",
   "execution_count": null,
   "metadata": {},
   "outputs": [],
   "source": [
    "new_df.to_csv('hsmm_data.csv')"
   ]
  },
  {
   "cell_type": "code",
   "execution_count": null,
   "metadata": {},
   "outputs": [],
   "source": []
  }
 ],
 "metadata": {
  "interpreter": {
   "hash": "031349a087c843137d2428832ad4bf54e498188683e99d07d622f03f52336ffc"
  },
  "kernelspec": {
   "display_name": "Python 3.8.12 64-bit ('hsmm': conda)",
   "name": "python3"
  },
  "language_info": {
   "codemirror_mode": {
    "name": "ipython",
    "version": 3
   },
   "file_extension": ".py",
   "mimetype": "text/x-python",
   "name": "python",
   "nbconvert_exporter": "python",
   "pygments_lexer": "ipython3",
   "version": "3.8.12"
  }
 },
 "nbformat": 4,
 "nbformat_minor": 4
}
