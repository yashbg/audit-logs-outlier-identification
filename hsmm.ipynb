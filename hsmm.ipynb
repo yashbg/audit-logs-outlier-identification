{
 "cells": [
  {
   "cell_type": "code",
   "execution_count": 74,
   "metadata": {},
   "outputs": [],
   "source": [
    "import numpy as np\n",
    "import pandas as pd\n",
    "from matplotlib import pyplot as plt\n",
    "from hsmmlearn.hsmm import GaussianHSMM"
   ]
  },
  {
   "cell_type": "code",
   "execution_count": 75,
   "metadata": {},
   "outputs": [
    {
     "data": {
      "text/html": [
       "<div>\n",
       "<style scoped>\n",
       "    .dataframe tbody tr th:only-of-type {\n",
       "        vertical-align: middle;\n",
       "    }\n",
       "\n",
       "    .dataframe tbody tr th {\n",
       "        vertical-align: top;\n",
       "    }\n",
       "\n",
       "    .dataframe thead th {\n",
       "        text-align: right;\n",
       "    }\n",
       "</style>\n",
       "<table border=\"1\" class=\"dataframe\">\n",
       "  <thead>\n",
       "    <tr style=\"text-align: right;\">\n",
       "      <th></th>\n",
       "      <th>num</th>\n",
       "      <th>id</th>\n",
       "      <th>states</th>\n",
       "      <th>durations</th>\n",
       "    </tr>\n",
       "  </thead>\n",
       "  <tbody>\n",
       "    <tr>\n",
       "      <th>0</th>\n",
       "      <td>0</td>\n",
       "      <td>16000277</td>\n",
       "      <td>0</td>\n",
       "      <td>68.0</td>\n",
       "    </tr>\n",
       "    <tr>\n",
       "      <th>1</th>\n",
       "      <td>1</td>\n",
       "      <td>16000277</td>\n",
       "      <td>0</td>\n",
       "      <td>22.0</td>\n",
       "    </tr>\n",
       "    <tr>\n",
       "      <th>2</th>\n",
       "      <td>2</td>\n",
       "      <td>16000277</td>\n",
       "      <td>0</td>\n",
       "      <td>69.0</td>\n",
       "    </tr>\n",
       "    <tr>\n",
       "      <th>3</th>\n",
       "      <td>3</td>\n",
       "      <td>16000277</td>\n",
       "      <td>0</td>\n",
       "      <td>9.0</td>\n",
       "    </tr>\n",
       "    <tr>\n",
       "      <th>4</th>\n",
       "      <td>4</td>\n",
       "      <td>16000277</td>\n",
       "      <td>0</td>\n",
       "      <td>58.0</td>\n",
       "    </tr>\n",
       "    <tr>\n",
       "      <th>...</th>\n",
       "      <td>...</td>\n",
       "      <td>...</td>\n",
       "      <td>...</td>\n",
       "      <td>...</td>\n",
       "    </tr>\n",
       "    <tr>\n",
       "      <th>6394</th>\n",
       "      <td>27</td>\n",
       "      <td>3004067</td>\n",
       "      <td>2</td>\n",
       "      <td>108.0</td>\n",
       "    </tr>\n",
       "    <tr>\n",
       "      <th>6395</th>\n",
       "      <td>28</td>\n",
       "      <td>3004067</td>\n",
       "      <td>1</td>\n",
       "      <td>24.0</td>\n",
       "    </tr>\n",
       "    <tr>\n",
       "      <th>6396</th>\n",
       "      <td>29</td>\n",
       "      <td>3004067</td>\n",
       "      <td>1</td>\n",
       "      <td>3.0</td>\n",
       "    </tr>\n",
       "    <tr>\n",
       "      <th>6397</th>\n",
       "      <td>30</td>\n",
       "      <td>3004067</td>\n",
       "      <td>1</td>\n",
       "      <td>3.0</td>\n",
       "    </tr>\n",
       "    <tr>\n",
       "      <th>6398</th>\n",
       "      <td>31</td>\n",
       "      <td>3004067</td>\n",
       "      <td>1</td>\n",
       "      <td>5.0</td>\n",
       "    </tr>\n",
       "  </tbody>\n",
       "</table>\n",
       "<p>6399 rows × 4 columns</p>\n",
       "</div>"
      ],
      "text/plain": [
       "      num        id  states  durations\n",
       "0       0  16000277       0       68.0\n",
       "1       1  16000277       0       22.0\n",
       "2       2  16000277       0       69.0\n",
       "3       3  16000277       0        9.0\n",
       "4       4  16000277       0       58.0\n",
       "...   ...       ...     ...        ...\n",
       "6394   27   3004067       2      108.0\n",
       "6395   28   3004067       1       24.0\n",
       "6396   29   3004067       1        3.0\n",
       "6397   30   3004067       1        3.0\n",
       "6398   31   3004067       1        5.0\n",
       "\n",
       "[6399 rows x 4 columns]"
      ]
     },
     "execution_count": 75,
     "metadata": {},
     "output_type": "execute_result"
    }
   ],
   "source": [
    "df = pd.read_csv('hsmm_data.csv')\n",
    "df.columns = ['num', 'id', 'states', 'durations']\n",
    "df"
   ]
  },
  {
   "cell_type": "code",
   "execution_count": 76,
   "metadata": {},
   "outputs": [
    {
     "data": {
      "text/html": [
       "<div>\n",
       "<style scoped>\n",
       "    .dataframe tbody tr th:only-of-type {\n",
       "        vertical-align: middle;\n",
       "    }\n",
       "\n",
       "    .dataframe tbody tr th {\n",
       "        vertical-align: top;\n",
       "    }\n",
       "\n",
       "    .dataframe thead th {\n",
       "        text-align: right;\n",
       "    }\n",
       "</style>\n",
       "<table border=\"1\" class=\"dataframe\">\n",
       "  <thead>\n",
       "    <tr style=\"text-align: right;\">\n",
       "      <th></th>\n",
       "      <th>num</th>\n",
       "      <th>id</th>\n",
       "      <th>states</th>\n",
       "      <th>durations</th>\n",
       "      <th>durations_log</th>\n",
       "    </tr>\n",
       "  </thead>\n",
       "  <tbody>\n",
       "    <tr>\n",
       "      <th>0</th>\n",
       "      <td>0</td>\n",
       "      <td>16000277</td>\n",
       "      <td>0</td>\n",
       "      <td>68.0</td>\n",
       "      <td>4</td>\n",
       "    </tr>\n",
       "    <tr>\n",
       "      <th>1</th>\n",
       "      <td>1</td>\n",
       "      <td>16000277</td>\n",
       "      <td>0</td>\n",
       "      <td>22.0</td>\n",
       "      <td>3</td>\n",
       "    </tr>\n",
       "    <tr>\n",
       "      <th>2</th>\n",
       "      <td>2</td>\n",
       "      <td>16000277</td>\n",
       "      <td>0</td>\n",
       "      <td>69.0</td>\n",
       "      <td>4</td>\n",
       "    </tr>\n",
       "    <tr>\n",
       "      <th>3</th>\n",
       "      <td>3</td>\n",
       "      <td>16000277</td>\n",
       "      <td>0</td>\n",
       "      <td>9.0</td>\n",
       "      <td>2</td>\n",
       "    </tr>\n",
       "    <tr>\n",
       "      <th>4</th>\n",
       "      <td>4</td>\n",
       "      <td>16000277</td>\n",
       "      <td>0</td>\n",
       "      <td>58.0</td>\n",
       "      <td>4</td>\n",
       "    </tr>\n",
       "    <tr>\n",
       "      <th>...</th>\n",
       "      <td>...</td>\n",
       "      <td>...</td>\n",
       "      <td>...</td>\n",
       "      <td>...</td>\n",
       "      <td>...</td>\n",
       "    </tr>\n",
       "    <tr>\n",
       "      <th>6394</th>\n",
       "      <td>27</td>\n",
       "      <td>3004067</td>\n",
       "      <td>2</td>\n",
       "      <td>108.0</td>\n",
       "      <td>4</td>\n",
       "    </tr>\n",
       "    <tr>\n",
       "      <th>6395</th>\n",
       "      <td>28</td>\n",
       "      <td>3004067</td>\n",
       "      <td>1</td>\n",
       "      <td>24.0</td>\n",
       "      <td>3</td>\n",
       "    </tr>\n",
       "    <tr>\n",
       "      <th>6396</th>\n",
       "      <td>29</td>\n",
       "      <td>3004067</td>\n",
       "      <td>1</td>\n",
       "      <td>3.0</td>\n",
       "      <td>1</td>\n",
       "    </tr>\n",
       "    <tr>\n",
       "      <th>6397</th>\n",
       "      <td>30</td>\n",
       "      <td>3004067</td>\n",
       "      <td>1</td>\n",
       "      <td>3.0</td>\n",
       "      <td>1</td>\n",
       "    </tr>\n",
       "    <tr>\n",
       "      <th>6398</th>\n",
       "      <td>31</td>\n",
       "      <td>3004067</td>\n",
       "      <td>1</td>\n",
       "      <td>5.0</td>\n",
       "      <td>1</td>\n",
       "    </tr>\n",
       "  </tbody>\n",
       "</table>\n",
       "<p>6399 rows × 5 columns</p>\n",
       "</div>"
      ],
      "text/plain": [
       "      num        id  states  durations  durations_log\n",
       "0       0  16000277       0       68.0              4\n",
       "1       1  16000277       0       22.0              3\n",
       "2       2  16000277       0       69.0              4\n",
       "3       3  16000277       0        9.0              2\n",
       "4       4  16000277       0       58.0              4\n",
       "...   ...       ...     ...        ...            ...\n",
       "6394   27   3004067       2      108.0              4\n",
       "6395   28   3004067       1       24.0              3\n",
       "6396   29   3004067       1        3.0              1\n",
       "6397   30   3004067       1        3.0              1\n",
       "6398   31   3004067       1        5.0              1\n",
       "\n",
       "[6399 rows x 5 columns]"
      ]
     },
     "execution_count": 76,
     "metadata": {},
     "output_type": "execute_result"
    }
   ],
   "source": [
    "# clipping durations to max 120 seconds\n",
    "df.loc[df.durations > 120, 'durations'] = 120\n",
    "# taking log of durations\n",
    "df['durations_log'] = np.log(df.durations + 1).astype(int)\n",
    "df"
   ]
  },
  {
   "cell_type": "code",
   "execution_count": 77,
   "metadata": {},
   "outputs": [
    {
     "data": {
      "text/plain": [
       "array([4, 3, 2, 1, 0])"
      ]
     },
     "execution_count": 77,
     "metadata": {},
     "output_type": "execute_result"
    }
   ],
   "source": [
    "df.durations_log.unique()"
   ]
  },
  {
   "cell_type": "code",
   "execution_count": 78,
   "metadata": {},
   "outputs": [
    {
     "data": {
      "text/plain": [
       "5"
      ]
     },
     "execution_count": 78,
     "metadata": {},
     "output_type": "execute_result"
    }
   ],
   "source": [
    "n_durations = len(df.durations_log.unique())\n",
    "n_durations"
   ]
  },
  {
   "cell_type": "code",
   "execution_count": 79,
   "metadata": {},
   "outputs": [],
   "source": [
    "n_states = 3"
   ]
  },
  {
   "cell_type": "code",
   "execution_count": 80,
   "metadata": {},
   "outputs": [
    {
     "data": {
      "text/plain": [
       "array([[0.06111444, 0.26363092, 0.16237268, 0.13780707, 0.3750749 ],\n",
       "       [0.12596685, 0.35211786, 0.15801105, 0.12559853, 0.23830571],\n",
       "       [0.14789082, 0.44466501, 0.14937965, 0.09330025, 0.16476427]])"
      ]
     },
     "execution_count": 80,
     "metadata": {},
     "output_type": "execute_result"
    }
   ],
   "source": [
    "# find durations matrix from the data (could be done using the `fit` method also (?))\n",
    "# Each row corresponds to a hidden state, with the `i`-th entry the probability of seeing duration `i` in that state.\n",
    "durations = np.zeros((n_states, n_durations))\n",
    "\n",
    "for state in range(n_states):\n",
    "    total = (df.states == state).sum()\n",
    "    for duration in range(n_durations):\n",
    "        num = ((df.states == state) & (df.durations_log == duration)).sum()\n",
    "        durations[state, duration] = num / total\n",
    "durations"
   ]
  },
  {
   "cell_type": "code",
   "execution_count": 81,
   "metadata": {},
   "outputs": [],
   "source": [
    "tmat = np.array([\n",
    "    [0.0, 0.5, 0.5],\n",
    "    [0.3, 0.0, 0.7],\n",
    "    [0.6, 0.4, 0.0]\n",
    "])\n",
    "\n",
    "means = np.array([0.0, 1.0, 2.0])\n",
    "scales = np.ones_like(means)"
   ]
  },
  {
   "cell_type": "code",
   "execution_count": 82,
   "metadata": {},
   "outputs": [],
   "source": [
    "hsmm = GaussianHSMM(means, scales, durations, tmat)"
   ]
  },
  {
   "cell_type": "markdown",
   "metadata": {},
   "source": [
    "Let's fit the model using all the students."
   ]
  },
  {
   "cell_type": "code",
   "execution_count": 83,
   "metadata": {},
   "outputs": [
    {
     "ename": "NoConvergenceError",
     "evalue": "The forward-backward algorithm encountered an internal error after 1 steps. Try reducing the `num_iter` parameter. Log-likelihood procession: [].",
     "output_type": "error",
     "traceback": [
      "\u001b[0;31m---------------------------------------------------------------------------\u001b[0m",
      "\u001b[0;31mNoConvergenceError\u001b[0m                        Traceback (most recent call last)",
      "\u001b[0;32m<ipython-input-83-5cd9970b0038>\u001b[0m in \u001b[0;36m<module>\u001b[0;34m\u001b[0m\n\u001b[0;32m----> 1\u001b[0;31m \u001b[0mhsmm\u001b[0m\u001b[0;34m.\u001b[0m\u001b[0mfit\u001b[0m\u001b[0;34m(\u001b[0m\u001b[0mdf\u001b[0m\u001b[0;34m.\u001b[0m\u001b[0mdurations_log\u001b[0m\u001b[0;34m)\u001b[0m\u001b[0;34m\u001b[0m\u001b[0;34m\u001b[0m\u001b[0m\n\u001b[0m",
      "\u001b[0;32m~/miniconda3/envs/hsmm/lib/python3.8/site-packages/hsmmlearn/hsmm.py\u001b[0m in \u001b[0;36mfit\u001b[0;34m(self, obs, max_iter, atol, censoring)\u001b[0m\n\u001b[1;32m    294\u001b[0m             \u001b[0mself\u001b[0m\u001b[0;34m.\u001b[0m\u001b[0mdurations\u001b[0m \u001b[0;34m=\u001b[0m \u001b[0mold_durations\u001b[0m\u001b[0;34m\u001b[0m\u001b[0;34m\u001b[0m\u001b[0m\n\u001b[1;32m    295\u001b[0m             \u001b[0mself\u001b[0m\u001b[0;34m.\u001b[0m\u001b[0m_startprob\u001b[0m \u001b[0;34m=\u001b[0m \u001b[0mold_startprob\u001b[0m\u001b[0;34m\u001b[0m\u001b[0;34m\u001b[0m\u001b[0m\n\u001b[0;32m--> 296\u001b[0;31m             raise NoConvergenceError(\n\u001b[0m\u001b[1;32m    297\u001b[0m                 \u001b[0;34m\"The forward-backward algorithm encountered an internal error \"\u001b[0m\u001b[0;34m\u001b[0m\u001b[0;34m\u001b[0m\u001b[0m\n\u001b[1;32m    298\u001b[0m                 \u001b[0;34m\"after {} steps. Try reducing the `num_iter` parameter. \"\u001b[0m\u001b[0;34m\u001b[0m\u001b[0;34m\u001b[0m\u001b[0m\n",
      "\u001b[0;31mNoConvergenceError\u001b[0m: The forward-backward algorithm encountered an internal error after 1 steps. Try reducing the `num_iter` parameter. Log-likelihood procession: []."
     ]
    }
   ],
   "source": [
    "hsmm.fit(df.durations_log)"
   ]
  },
  {
   "cell_type": "markdown",
   "metadata": {},
   "source": [
    "The EM algorithm is not converging."
   ]
  },
  {
   "cell_type": "markdown",
   "metadata": {},
   "source": [
    "Let's change the initialization and try again."
   ]
  },
  {
   "cell_type": "code",
   "execution_count": 84,
   "metadata": {},
   "outputs": [
    {
     "name": "stderr",
     "output_type": "stream",
     "text": [
      "/home/yashbg/.local/lib/python3.8/site-packages/scipy/stats/_continuous_distns.py:243: RuntimeWarning: overflow encountered in square\n",
      "  return np.exp(-x**2/2.0) / _norm_pdf_C\n"
     ]
    },
    {
     "ename": "NoConvergenceError",
     "evalue": "The forward-backward algorithm encountered an internal error after 4 steps. Try reducing the `num_iter` parameter. Log-likelihood procession: [-25283.7876739767, -11204.981613609485, 452298.49209155026].",
     "output_type": "error",
     "traceback": [
      "\u001b[0;31m---------------------------------------------------------------------------\u001b[0m",
      "\u001b[0;31mNoConvergenceError\u001b[0m                        Traceback (most recent call last)",
      "\u001b[0;32m<ipython-input-84-0e88b449112a>\u001b[0m in \u001b[0;36m<module>\u001b[0;34m\u001b[0m\n\u001b[1;32m      4\u001b[0m \u001b[0mscales\u001b[0m \u001b[0;34m=\u001b[0m \u001b[0mnp\u001b[0m\u001b[0;34m.\u001b[0m\u001b[0mones_like\u001b[0m\u001b[0;34m(\u001b[0m\u001b[0mmeans\u001b[0m\u001b[0;34m)\u001b[0m\u001b[0;34m\u001b[0m\u001b[0;34m\u001b[0m\u001b[0m\n\u001b[1;32m      5\u001b[0m \u001b[0mhsmm\u001b[0m \u001b[0;34m=\u001b[0m \u001b[0mGaussianHSMM\u001b[0m\u001b[0;34m(\u001b[0m\u001b[0mmeans\u001b[0m\u001b[0;34m,\u001b[0m \u001b[0mscales\u001b[0m\u001b[0;34m,\u001b[0m \u001b[0mdurations\u001b[0m\u001b[0;34m,\u001b[0m \u001b[0mtmat\u001b[0m\u001b[0;34m)\u001b[0m\u001b[0;34m\u001b[0m\u001b[0;34m\u001b[0m\u001b[0m\n\u001b[0;32m----> 6\u001b[0;31m \u001b[0mhsmm\u001b[0m\u001b[0;34m.\u001b[0m\u001b[0mfit\u001b[0m\u001b[0;34m(\u001b[0m\u001b[0mdf\u001b[0m\u001b[0;34m.\u001b[0m\u001b[0mdurations_log\u001b[0m\u001b[0;34m)\u001b[0m\u001b[0;34m\u001b[0m\u001b[0;34m\u001b[0m\u001b[0m\n\u001b[0m",
      "\u001b[0;32m~/miniconda3/envs/hsmm/lib/python3.8/site-packages/hsmmlearn/hsmm.py\u001b[0m in \u001b[0;36mfit\u001b[0;34m(self, obs, max_iter, atol, censoring)\u001b[0m\n\u001b[1;32m    294\u001b[0m             \u001b[0mself\u001b[0m\u001b[0;34m.\u001b[0m\u001b[0mdurations\u001b[0m \u001b[0;34m=\u001b[0m \u001b[0mold_durations\u001b[0m\u001b[0;34m\u001b[0m\u001b[0;34m\u001b[0m\u001b[0m\n\u001b[1;32m    295\u001b[0m             \u001b[0mself\u001b[0m\u001b[0;34m.\u001b[0m\u001b[0m_startprob\u001b[0m \u001b[0;34m=\u001b[0m \u001b[0mold_startprob\u001b[0m\u001b[0;34m\u001b[0m\u001b[0;34m\u001b[0m\u001b[0m\n\u001b[0;32m--> 296\u001b[0;31m             raise NoConvergenceError(\n\u001b[0m\u001b[1;32m    297\u001b[0m                 \u001b[0;34m\"The forward-backward algorithm encountered an internal error \"\u001b[0m\u001b[0;34m\u001b[0m\u001b[0;34m\u001b[0m\u001b[0m\n\u001b[1;32m    298\u001b[0m                 \u001b[0;34m\"after {} steps. Try reducing the `num_iter` parameter. \"\u001b[0m\u001b[0;34m\u001b[0m\u001b[0;34m\u001b[0m\u001b[0m\n",
      "\u001b[0;31mNoConvergenceError\u001b[0m: The forward-backward algorithm encountered an internal error after 4 steps. Try reducing the `num_iter` parameter. Log-likelihood procession: [-25283.7876739767, -11204.981613609485, 452298.49209155026]."
     ]
    }
   ],
   "source": [
    "durations = np.full((3, 5), 0.2)\n",
    "tmat = np.full((3, 3), 1 / 3)\n",
    "means = np.full(3, 0.0)\n",
    "scales = np.ones_like(means)\n",
    "hsmm = GaussianHSMM(means, scales, durations, tmat)\n",
    "hsmm.fit(df.durations_log)"
   ]
  },
  {
   "cell_type": "markdown",
   "metadata": {},
   "source": [
    "Still not converging."
   ]
  },
  {
   "cell_type": "markdown",
   "metadata": {},
   "source": [
    "We should find these observations for each student separately so that we can find the outliers based on the parameters of the model for each student"
   ]
  },
  {
   "cell_type": "code",
   "execution_count": 85,
   "metadata": {},
   "outputs": [
    {
     "data": {
      "text/html": [
       "<div>\n",
       "<style scoped>\n",
       "    .dataframe tbody tr th:only-of-type {\n",
       "        vertical-align: middle;\n",
       "    }\n",
       "\n",
       "    .dataframe tbody tr th {\n",
       "        vertical-align: top;\n",
       "    }\n",
       "\n",
       "    .dataframe thead th {\n",
       "        text-align: right;\n",
       "    }\n",
       "</style>\n",
       "<table border=\"1\" class=\"dataframe\">\n",
       "  <thead>\n",
       "    <tr style=\"text-align: right;\">\n",
       "      <th></th>\n",
       "      <th>num</th>\n",
       "      <th>id</th>\n",
       "      <th>states</th>\n",
       "      <th>durations</th>\n",
       "      <th>durations_log</th>\n",
       "    </tr>\n",
       "  </thead>\n",
       "  <tbody>\n",
       "    <tr>\n",
       "      <th>0</th>\n",
       "      <td>0</td>\n",
       "      <td>16000277</td>\n",
       "      <td>0</td>\n",
       "      <td>68.0</td>\n",
       "      <td>4</td>\n",
       "    </tr>\n",
       "    <tr>\n",
       "      <th>1</th>\n",
       "      <td>1</td>\n",
       "      <td>16000277</td>\n",
       "      <td>0</td>\n",
       "      <td>22.0</td>\n",
       "      <td>3</td>\n",
       "    </tr>\n",
       "    <tr>\n",
       "      <th>2</th>\n",
       "      <td>2</td>\n",
       "      <td>16000277</td>\n",
       "      <td>0</td>\n",
       "      <td>69.0</td>\n",
       "      <td>4</td>\n",
       "    </tr>\n",
       "    <tr>\n",
       "      <th>3</th>\n",
       "      <td>3</td>\n",
       "      <td>16000277</td>\n",
       "      <td>0</td>\n",
       "      <td>9.0</td>\n",
       "      <td>2</td>\n",
       "    </tr>\n",
       "    <tr>\n",
       "      <th>4</th>\n",
       "      <td>4</td>\n",
       "      <td>16000277</td>\n",
       "      <td>0</td>\n",
       "      <td>58.0</td>\n",
       "      <td>4</td>\n",
       "    </tr>\n",
       "    <tr>\n",
       "      <th>...</th>\n",
       "      <td>...</td>\n",
       "      <td>...</td>\n",
       "      <td>...</td>\n",
       "      <td>...</td>\n",
       "      <td>...</td>\n",
       "    </tr>\n",
       "    <tr>\n",
       "      <th>202</th>\n",
       "      <td>202</td>\n",
       "      <td>16000277</td>\n",
       "      <td>2</td>\n",
       "      <td>1.0</td>\n",
       "      <td>0</td>\n",
       "    </tr>\n",
       "    <tr>\n",
       "      <th>203</th>\n",
       "      <td>203</td>\n",
       "      <td>16000277</td>\n",
       "      <td>2</td>\n",
       "      <td>3.0</td>\n",
       "      <td>1</td>\n",
       "    </tr>\n",
       "    <tr>\n",
       "      <th>204</th>\n",
       "      <td>204</td>\n",
       "      <td>16000277</td>\n",
       "      <td>2</td>\n",
       "      <td>5.0</td>\n",
       "      <td>1</td>\n",
       "    </tr>\n",
       "    <tr>\n",
       "      <th>205</th>\n",
       "      <td>205</td>\n",
       "      <td>16000277</td>\n",
       "      <td>2</td>\n",
       "      <td>5.0</td>\n",
       "      <td>1</td>\n",
       "    </tr>\n",
       "    <tr>\n",
       "      <th>206</th>\n",
       "      <td>206</td>\n",
       "      <td>16000277</td>\n",
       "      <td>2</td>\n",
       "      <td>5.0</td>\n",
       "      <td>1</td>\n",
       "    </tr>\n",
       "  </tbody>\n",
       "</table>\n",
       "<p>207 rows × 5 columns</p>\n",
       "</div>"
      ],
      "text/plain": [
       "     num        id  states  durations  durations_log\n",
       "0      0  16000277       0       68.0              4\n",
       "1      1  16000277       0       22.0              3\n",
       "2      2  16000277       0       69.0              4\n",
       "3      3  16000277       0        9.0              2\n",
       "4      4  16000277       0       58.0              4\n",
       "..   ...       ...     ...        ...            ...\n",
       "202  202  16000277       2        1.0              0\n",
       "203  203  16000277       2        3.0              1\n",
       "204  204  16000277       2        5.0              1\n",
       "205  205  16000277       2        5.0              1\n",
       "206  206  16000277       2        5.0              1\n",
       "\n",
       "[207 rows x 5 columns]"
      ]
     },
     "execution_count": 85,
     "metadata": {},
     "output_type": "execute_result"
    }
   ],
   "source": [
    "df0 = df[df.id == df.id[0]]\n",
    "df0"
   ]
  },
  {
   "cell_type": "code",
   "execution_count": 86,
   "metadata": {},
   "outputs": [
    {
     "data": {
      "text/plain": [
       "array([[0.01923077, 0.25      , 0.13461538, 0.09615385, 0.5       ],\n",
       "       [0.01538462, 0.18461538, 0.32307692, 0.21538462, 0.26153846],\n",
       "       [0.15555556, 0.6       , 0.16666667, 0.03333333, 0.04444444]])"
      ]
     },
     "execution_count": 86,
     "metadata": {},
     "output_type": "execute_result"
    }
   ],
   "source": [
    "durations0 = np.zeros((n_states, n_durations))\n",
    "\n",
    "for state in range(n_states):\n",
    "    total = (df0.states == state).sum()\n",
    "    for duration in range(n_durations):\n",
    "        num = ((df0.states == state) & (df0.durations_log == duration)).sum()\n",
    "        durations0[state, duration] = num / total\n",
    "durations0"
   ]
  },
  {
   "cell_type": "code",
   "execution_count": 87,
   "metadata": {},
   "outputs": [],
   "source": [
    "tmat = np.array([\n",
    "    [0.0, 0.5, 0.5],\n",
    "    [0.3, 0.0, 0.7],\n",
    "    [0.6, 0.4, 0.0]\n",
    "])\n",
    "\n",
    "means = np.array([0.0, 1.0, 2.0])\n",
    "scales = np.ones_like(means)"
   ]
  },
  {
   "cell_type": "code",
   "execution_count": 88,
   "metadata": {},
   "outputs": [],
   "source": [
    "hsmm0 = GaussianHSMM(means, scales, durations0, tmat)"
   ]
  },
  {
   "cell_type": "code",
   "execution_count": 102,
   "metadata": {},
   "outputs": [
    {
     "data": {
      "text/plain": [
       "(False, 1128.2414416618485)"
      ]
     },
     "execution_count": 102,
     "metadata": {},
     "output_type": "execute_result"
    }
   ],
   "source": [
    "hsmm0.fit(df0.durations_log)"
   ]
  },
  {
   "cell_type": "markdown",
   "metadata": {},
   "source": [
    "The EM algorithm is not converging for the first student."
   ]
  },
  {
   "cell_type": "markdown",
   "metadata": {},
   "source": [
    "Let's try fitting the model for the second student."
   ]
  },
  {
   "cell_type": "code",
   "execution_count": 103,
   "metadata": {},
   "outputs": [
    {
     "data": {
      "text/html": [
       "<div>\n",
       "<style scoped>\n",
       "    .dataframe tbody tr th:only-of-type {\n",
       "        vertical-align: middle;\n",
       "    }\n",
       "\n",
       "    .dataframe tbody tr th {\n",
       "        vertical-align: top;\n",
       "    }\n",
       "\n",
       "    .dataframe thead th {\n",
       "        text-align: right;\n",
       "    }\n",
       "</style>\n",
       "<table border=\"1\" class=\"dataframe\">\n",
       "  <thead>\n",
       "    <tr style=\"text-align: right;\">\n",
       "      <th></th>\n",
       "      <th>num</th>\n",
       "      <th>id</th>\n",
       "      <th>states</th>\n",
       "      <th>durations</th>\n",
       "      <th>durations_log</th>\n",
       "    </tr>\n",
       "  </thead>\n",
       "  <tbody>\n",
       "    <tr>\n",
       "      <th>0</th>\n",
       "      <td>0</td>\n",
       "      <td>16000277</td>\n",
       "      <td>0</td>\n",
       "      <td>68.0</td>\n",
       "      <td>4</td>\n",
       "    </tr>\n",
       "    <tr>\n",
       "      <th>1</th>\n",
       "      <td>1</td>\n",
       "      <td>16000277</td>\n",
       "      <td>0</td>\n",
       "      <td>22.0</td>\n",
       "      <td>3</td>\n",
       "    </tr>\n",
       "    <tr>\n",
       "      <th>2</th>\n",
       "      <td>2</td>\n",
       "      <td>16000277</td>\n",
       "      <td>0</td>\n",
       "      <td>69.0</td>\n",
       "      <td>4</td>\n",
       "    </tr>\n",
       "    <tr>\n",
       "      <th>3</th>\n",
       "      <td>3</td>\n",
       "      <td>16000277</td>\n",
       "      <td>0</td>\n",
       "      <td>9.0</td>\n",
       "      <td>2</td>\n",
       "    </tr>\n",
       "    <tr>\n",
       "      <th>4</th>\n",
       "      <td>4</td>\n",
       "      <td>16000277</td>\n",
       "      <td>0</td>\n",
       "      <td>58.0</td>\n",
       "      <td>4</td>\n",
       "    </tr>\n",
       "    <tr>\n",
       "      <th>...</th>\n",
       "      <td>...</td>\n",
       "      <td>...</td>\n",
       "      <td>...</td>\n",
       "      <td>...</td>\n",
       "      <td>...</td>\n",
       "    </tr>\n",
       "    <tr>\n",
       "      <th>202</th>\n",
       "      <td>202</td>\n",
       "      <td>16000277</td>\n",
       "      <td>2</td>\n",
       "      <td>1.0</td>\n",
       "      <td>0</td>\n",
       "    </tr>\n",
       "    <tr>\n",
       "      <th>203</th>\n",
       "      <td>203</td>\n",
       "      <td>16000277</td>\n",
       "      <td>2</td>\n",
       "      <td>3.0</td>\n",
       "      <td>1</td>\n",
       "    </tr>\n",
       "    <tr>\n",
       "      <th>204</th>\n",
       "      <td>204</td>\n",
       "      <td>16000277</td>\n",
       "      <td>2</td>\n",
       "      <td>5.0</td>\n",
       "      <td>1</td>\n",
       "    </tr>\n",
       "    <tr>\n",
       "      <th>205</th>\n",
       "      <td>205</td>\n",
       "      <td>16000277</td>\n",
       "      <td>2</td>\n",
       "      <td>5.0</td>\n",
       "      <td>1</td>\n",
       "    </tr>\n",
       "    <tr>\n",
       "      <th>206</th>\n",
       "      <td>206</td>\n",
       "      <td>16000277</td>\n",
       "      <td>2</td>\n",
       "      <td>5.0</td>\n",
       "      <td>1</td>\n",
       "    </tr>\n",
       "  </tbody>\n",
       "</table>\n",
       "<p>207 rows × 5 columns</p>\n",
       "</div>"
      ],
      "text/plain": [
       "     num        id  states  durations  durations_log\n",
       "0      0  16000277       0       68.0              4\n",
       "1      1  16000277       0       22.0              3\n",
       "2      2  16000277       0       69.0              4\n",
       "3      3  16000277       0        9.0              2\n",
       "4      4  16000277       0       58.0              4\n",
       "..   ...       ...     ...        ...            ...\n",
       "202  202  16000277       2        1.0              0\n",
       "203  203  16000277       2        3.0              1\n",
       "204  204  16000277       2        5.0              1\n",
       "205  205  16000277       2        5.0              1\n",
       "206  206  16000277       2        5.0              1\n",
       "\n",
       "[207 rows x 5 columns]"
      ]
     },
     "execution_count": 103,
     "metadata": {},
     "output_type": "execute_result"
    }
   ],
   "source": [
    "df1 = df[df.id == df.id[1]]\n",
    "df1"
   ]
  },
  {
   "cell_type": "code",
   "execution_count": 104,
   "metadata": {},
   "outputs": [
    {
     "data": {
      "text/plain": [
       "array([[0.01923077, 0.25      , 0.13461538, 0.09615385, 0.5       ],\n",
       "       [0.01538462, 0.18461538, 0.32307692, 0.21538462, 0.26153846],\n",
       "       [0.15555556, 0.6       , 0.16666667, 0.03333333, 0.04444444]])"
      ]
     },
     "execution_count": 104,
     "metadata": {},
     "output_type": "execute_result"
    }
   ],
   "source": [
    "durations1 = np.zeros((n_states, n_durations))\n",
    "\n",
    "for state in range(n_states):\n",
    "    total = (df1.states == state).sum()\n",
    "    for duration in range(n_durations):\n",
    "        num = ((df1.states == state) & (df1.durations_log == duration)).sum()\n",
    "        durations1[state, duration] = num / total\n",
    "durations1"
   ]
  },
  {
   "cell_type": "code",
   "execution_count": 105,
   "metadata": {},
   "outputs": [],
   "source": [
    "tmat = np.array([\n",
    "    [0.0, 0.5, 0.5],\n",
    "    [0.3, 0.0, 0.7],\n",
    "    [0.6, 0.4, 0.0]\n",
    "])\n",
    "\n",
    "means = np.array([0.0, 1.0, 2.0])\n",
    "scales = np.ones_like(means)"
   ]
  },
  {
   "cell_type": "code",
   "execution_count": 106,
   "metadata": {},
   "outputs": [],
   "source": [
    "hsmm1 = GaussianHSMM(means, scales, durations1, tmat)"
   ]
  },
  {
   "cell_type": "code",
   "execution_count": 107,
   "metadata": {},
   "outputs": [
    {
     "data": {
      "text/plain": [
       "(False, 1132.0419557693583)"
      ]
     },
     "execution_count": 107,
     "metadata": {},
     "output_type": "execute_result"
    }
   ],
   "source": [
    "hsmm1.fit(df1.durations_log)"
   ]
  },
  {
   "cell_type": "markdown",
   "metadata": {},
   "source": [
    "Not converging for the second student also."
   ]
  }
 ],
 "metadata": {
  "interpreter": {
   "hash": "031349a087c843137d2428832ad4bf54e498188683e99d07d622f03f52336ffc"
  },
  "kernelspec": {
   "display_name": "Python 3.8.12 64-bit ('hsmm': conda)",
   "language": "python",
   "name": "python3"
  },
  "language_info": {
   "codemirror_mode": {
    "name": "ipython",
    "version": 3
   },
   "file_extension": ".py",
   "mimetype": "text/x-python",
   "name": "python",
   "nbconvert_exporter": "python",
   "pygments_lexer": "ipython3",
   "version": "3.8.12"
  },
  "orig_nbformat": 4
 },
 "nbformat": 4,
 "nbformat_minor": 2
}
