{
 "cells": [
  {
   "cell_type": "code",
   "execution_count": 1,
   "metadata": {},
   "outputs": [],
   "source": [
    "import numpy as np\n",
    "import pandas as pd\n",
    "from matplotlib import pyplot as plt\n",
    "from hsmmlearn.hsmm import GaussianHSMM"
   ]
  },
  {
   "cell_type": "code",
   "execution_count": 2,
   "metadata": {},
   "outputs": [
    {
     "data": {
      "text/html": [
       "<div>\n",
       "<style scoped>\n",
       "    .dataframe tbody tr th:only-of-type {\n",
       "        vertical-align: middle;\n",
       "    }\n",
       "\n",
       "    .dataframe tbody tr th {\n",
       "        vertical-align: top;\n",
       "    }\n",
       "\n",
       "    .dataframe thead th {\n",
       "        text-align: right;\n",
       "    }\n",
       "</style>\n",
       "<table border=\"1\" class=\"dataframe\">\n",
       "  <thead>\n",
       "    <tr style=\"text-align: right;\">\n",
       "      <th></th>\n",
       "      <th>num</th>\n",
       "      <th>id</th>\n",
       "      <th>states</th>\n",
       "      <th>durations</th>\n",
       "    </tr>\n",
       "  </thead>\n",
       "  <tbody>\n",
       "    <tr>\n",
       "      <th>0</th>\n",
       "      <td>0</td>\n",
       "      <td>16000277</td>\n",
       "      <td>0</td>\n",
       "      <td>68.0</td>\n",
       "    </tr>\n",
       "    <tr>\n",
       "      <th>1</th>\n",
       "      <td>1</td>\n",
       "      <td>16000277</td>\n",
       "      <td>0</td>\n",
       "      <td>22.0</td>\n",
       "    </tr>\n",
       "    <tr>\n",
       "      <th>2</th>\n",
       "      <td>2</td>\n",
       "      <td>16000277</td>\n",
       "      <td>0</td>\n",
       "      <td>69.0</td>\n",
       "    </tr>\n",
       "    <tr>\n",
       "      <th>3</th>\n",
       "      <td>3</td>\n",
       "      <td>16000277</td>\n",
       "      <td>0</td>\n",
       "      <td>9.0</td>\n",
       "    </tr>\n",
       "    <tr>\n",
       "      <th>4</th>\n",
       "      <td>4</td>\n",
       "      <td>16000277</td>\n",
       "      <td>0</td>\n",
       "      <td>58.0</td>\n",
       "    </tr>\n",
       "    <tr>\n",
       "      <th>...</th>\n",
       "      <td>...</td>\n",
       "      <td>...</td>\n",
       "      <td>...</td>\n",
       "      <td>...</td>\n",
       "    </tr>\n",
       "    <tr>\n",
       "      <th>6394</th>\n",
       "      <td>27</td>\n",
       "      <td>3004067</td>\n",
       "      <td>2</td>\n",
       "      <td>108.0</td>\n",
       "    </tr>\n",
       "    <tr>\n",
       "      <th>6395</th>\n",
       "      <td>28</td>\n",
       "      <td>3004067</td>\n",
       "      <td>1</td>\n",
       "      <td>24.0</td>\n",
       "    </tr>\n",
       "    <tr>\n",
       "      <th>6396</th>\n",
       "      <td>29</td>\n",
       "      <td>3004067</td>\n",
       "      <td>1</td>\n",
       "      <td>3.0</td>\n",
       "    </tr>\n",
       "    <tr>\n",
       "      <th>6397</th>\n",
       "      <td>30</td>\n",
       "      <td>3004067</td>\n",
       "      <td>1</td>\n",
       "      <td>3.0</td>\n",
       "    </tr>\n",
       "    <tr>\n",
       "      <th>6398</th>\n",
       "      <td>31</td>\n",
       "      <td>3004067</td>\n",
       "      <td>1</td>\n",
       "      <td>5.0</td>\n",
       "    </tr>\n",
       "  </tbody>\n",
       "</table>\n",
       "<p>6399 rows × 4 columns</p>\n",
       "</div>"
      ],
      "text/plain": [
       "      num        id  states  durations\n",
       "0       0  16000277       0       68.0\n",
       "1       1  16000277       0       22.0\n",
       "2       2  16000277       0       69.0\n",
       "3       3  16000277       0        9.0\n",
       "4       4  16000277       0       58.0\n",
       "...   ...       ...     ...        ...\n",
       "6394   27   3004067       2      108.0\n",
       "6395   28   3004067       1       24.0\n",
       "6396   29   3004067       1        3.0\n",
       "6397   30   3004067       1        3.0\n",
       "6398   31   3004067       1        5.0\n",
       "\n",
       "[6399 rows x 4 columns]"
      ]
     },
     "execution_count": 2,
     "metadata": {},
     "output_type": "execute_result"
    }
   ],
   "source": [
    "df = pd.read_csv('hsmm_data.csv')\n",
    "df.columns = ['num', 'id', 'states', 'durations']\n",
    "df"
   ]
  },
  {
   "cell_type": "code",
   "execution_count": 3,
   "metadata": {},
   "outputs": [
    {
     "data": {
      "text/html": [
       "<div>\n",
       "<style scoped>\n",
       "    .dataframe tbody tr th:only-of-type {\n",
       "        vertical-align: middle;\n",
       "    }\n",
       "\n",
       "    .dataframe tbody tr th {\n",
       "        vertical-align: top;\n",
       "    }\n",
       "\n",
       "    .dataframe thead th {\n",
       "        text-align: right;\n",
       "    }\n",
       "</style>\n",
       "<table border=\"1\" class=\"dataframe\">\n",
       "  <thead>\n",
       "    <tr style=\"text-align: right;\">\n",
       "      <th></th>\n",
       "      <th>num</th>\n",
       "      <th>id</th>\n",
       "      <th>states</th>\n",
       "      <th>durations</th>\n",
       "      <th>durations_log</th>\n",
       "    </tr>\n",
       "  </thead>\n",
       "  <tbody>\n",
       "    <tr>\n",
       "      <th>0</th>\n",
       "      <td>0</td>\n",
       "      <td>16000277</td>\n",
       "      <td>0</td>\n",
       "      <td>68.0</td>\n",
       "      <td>4</td>\n",
       "    </tr>\n",
       "    <tr>\n",
       "      <th>1</th>\n",
       "      <td>1</td>\n",
       "      <td>16000277</td>\n",
       "      <td>0</td>\n",
       "      <td>22.0</td>\n",
       "      <td>3</td>\n",
       "    </tr>\n",
       "    <tr>\n",
       "      <th>2</th>\n",
       "      <td>2</td>\n",
       "      <td>16000277</td>\n",
       "      <td>0</td>\n",
       "      <td>69.0</td>\n",
       "      <td>4</td>\n",
       "    </tr>\n",
       "    <tr>\n",
       "      <th>3</th>\n",
       "      <td>3</td>\n",
       "      <td>16000277</td>\n",
       "      <td>0</td>\n",
       "      <td>9.0</td>\n",
       "      <td>2</td>\n",
       "    </tr>\n",
       "    <tr>\n",
       "      <th>4</th>\n",
       "      <td>4</td>\n",
       "      <td>16000277</td>\n",
       "      <td>0</td>\n",
       "      <td>58.0</td>\n",
       "      <td>4</td>\n",
       "    </tr>\n",
       "    <tr>\n",
       "      <th>...</th>\n",
       "      <td>...</td>\n",
       "      <td>...</td>\n",
       "      <td>...</td>\n",
       "      <td>...</td>\n",
       "      <td>...</td>\n",
       "    </tr>\n",
       "    <tr>\n",
       "      <th>6394</th>\n",
       "      <td>27</td>\n",
       "      <td>3004067</td>\n",
       "      <td>2</td>\n",
       "      <td>108.0</td>\n",
       "      <td>4</td>\n",
       "    </tr>\n",
       "    <tr>\n",
       "      <th>6395</th>\n",
       "      <td>28</td>\n",
       "      <td>3004067</td>\n",
       "      <td>1</td>\n",
       "      <td>24.0</td>\n",
       "      <td>3</td>\n",
       "    </tr>\n",
       "    <tr>\n",
       "      <th>6396</th>\n",
       "      <td>29</td>\n",
       "      <td>3004067</td>\n",
       "      <td>1</td>\n",
       "      <td>3.0</td>\n",
       "      <td>1</td>\n",
       "    </tr>\n",
       "    <tr>\n",
       "      <th>6397</th>\n",
       "      <td>30</td>\n",
       "      <td>3004067</td>\n",
       "      <td>1</td>\n",
       "      <td>3.0</td>\n",
       "      <td>1</td>\n",
       "    </tr>\n",
       "    <tr>\n",
       "      <th>6398</th>\n",
       "      <td>31</td>\n",
       "      <td>3004067</td>\n",
       "      <td>1</td>\n",
       "      <td>5.0</td>\n",
       "      <td>1</td>\n",
       "    </tr>\n",
       "  </tbody>\n",
       "</table>\n",
       "<p>6399 rows × 5 columns</p>\n",
       "</div>"
      ],
      "text/plain": [
       "      num        id  states  durations  durations_log\n",
       "0       0  16000277       0       68.0              4\n",
       "1       1  16000277       0       22.0              3\n",
       "2       2  16000277       0       69.0              4\n",
       "3       3  16000277       0        9.0              2\n",
       "4       4  16000277       0       58.0              4\n",
       "...   ...       ...     ...        ...            ...\n",
       "6394   27   3004067       2      108.0              4\n",
       "6395   28   3004067       1       24.0              3\n",
       "6396   29   3004067       1        3.0              1\n",
       "6397   30   3004067       1        3.0              1\n",
       "6398   31   3004067       1        5.0              1\n",
       "\n",
       "[6399 rows x 5 columns]"
      ]
     },
     "execution_count": 3,
     "metadata": {},
     "output_type": "execute_result"
    }
   ],
   "source": [
    "# clipping durations to max 120 seconds\n",
    "df.loc[df.durations > 120, 'durations'] = 120\n",
    "# taking log of durations\n",
    "df['durations_log'] = np.log(df.durations + 1).astype(int)\n",
    "df"
   ]
  },
  {
   "cell_type": "code",
   "execution_count": 4,
   "metadata": {},
   "outputs": [
    {
     "data": {
      "text/plain": [
       "array([4, 3, 2, 1, 0])"
      ]
     },
     "execution_count": 4,
     "metadata": {},
     "output_type": "execute_result"
    }
   ],
   "source": [
    "df.durations_log.unique()"
   ]
  },
  {
   "cell_type": "code",
   "execution_count": 5,
   "metadata": {},
   "outputs": [
    {
     "data": {
      "text/plain": [
       "5"
      ]
     },
     "execution_count": 5,
     "metadata": {},
     "output_type": "execute_result"
    }
   ],
   "source": [
    "n_durations = len(df.durations_log.unique())\n",
    "n_durations"
   ]
  },
  {
   "cell_type": "code",
   "execution_count": 6,
   "metadata": {},
   "outputs": [],
   "source": [
    "n_states = 3"
   ]
  },
  {
   "cell_type": "code",
   "execution_count": 7,
   "metadata": {},
   "outputs": [
    {
     "data": {
      "text/plain": [
       "array([[0.06111444, 0.26363092, 0.16237268, 0.13780707, 0.3750749 ],\n",
       "       [0.12596685, 0.35211786, 0.15801105, 0.12559853, 0.23830571],\n",
       "       [0.14789082, 0.44466501, 0.14937965, 0.09330025, 0.16476427]])"
      ]
     },
     "execution_count": 7,
     "metadata": {},
     "output_type": "execute_result"
    }
   ],
   "source": [
    "# find durations matrix from the data (could be done using the `fit` method also (?))\n",
    "# Each row corresponds to a hidden state, with the `i`-th entry the probability of seeing duration `i` in that state.\n",
    "durations = np.zeros((n_states, n_durations))\n",
    "\n",
    "for state in range(n_states):\n",
    "    total = (df.states == state).sum()\n",
    "    for duration in range(n_durations):\n",
    "        num = ((df.states == state) & (df.durations_log == duration)).sum()\n",
    "        durations[state, duration] = num / total\n",
    "durations"
   ]
  },
  {
   "cell_type": "code",
   "execution_count": 8,
   "metadata": {},
   "outputs": [],
   "source": [
    "# for `fit` method, observations should have each observation (here, `states`) for the corresponding `duration` number of instances (?)\n",
    "# and we should find these observations for each student separately so that we can find the outliers based on the parameters of the model for each student"
   ]
  },
  {
   "cell_type": "code",
   "execution_count": 9,
   "metadata": {},
   "outputs": [
    {
     "data": {
      "text/html": [
       "<div>\n",
       "<style scoped>\n",
       "    .dataframe tbody tr th:only-of-type {\n",
       "        vertical-align: middle;\n",
       "    }\n",
       "\n",
       "    .dataframe tbody tr th {\n",
       "        vertical-align: top;\n",
       "    }\n",
       "\n",
       "    .dataframe thead th {\n",
       "        text-align: right;\n",
       "    }\n",
       "</style>\n",
       "<table border=\"1\" class=\"dataframe\">\n",
       "  <thead>\n",
       "    <tr style=\"text-align: right;\">\n",
       "      <th></th>\n",
       "      <th>num</th>\n",
       "      <th>id</th>\n",
       "      <th>states</th>\n",
       "      <th>durations</th>\n",
       "      <th>durations_log</th>\n",
       "    </tr>\n",
       "  </thead>\n",
       "  <tbody>\n",
       "    <tr>\n",
       "      <th>0</th>\n",
       "      <td>0</td>\n",
       "      <td>16000277</td>\n",
       "      <td>0</td>\n",
       "      <td>68.0</td>\n",
       "      <td>4</td>\n",
       "    </tr>\n",
       "    <tr>\n",
       "      <th>1</th>\n",
       "      <td>1</td>\n",
       "      <td>16000277</td>\n",
       "      <td>0</td>\n",
       "      <td>22.0</td>\n",
       "      <td>3</td>\n",
       "    </tr>\n",
       "    <tr>\n",
       "      <th>2</th>\n",
       "      <td>2</td>\n",
       "      <td>16000277</td>\n",
       "      <td>0</td>\n",
       "      <td>69.0</td>\n",
       "      <td>4</td>\n",
       "    </tr>\n",
       "    <tr>\n",
       "      <th>3</th>\n",
       "      <td>3</td>\n",
       "      <td>16000277</td>\n",
       "      <td>0</td>\n",
       "      <td>9.0</td>\n",
       "      <td>2</td>\n",
       "    </tr>\n",
       "    <tr>\n",
       "      <th>4</th>\n",
       "      <td>4</td>\n",
       "      <td>16000277</td>\n",
       "      <td>0</td>\n",
       "      <td>58.0</td>\n",
       "      <td>4</td>\n",
       "    </tr>\n",
       "    <tr>\n",
       "      <th>...</th>\n",
       "      <td>...</td>\n",
       "      <td>...</td>\n",
       "      <td>...</td>\n",
       "      <td>...</td>\n",
       "      <td>...</td>\n",
       "    </tr>\n",
       "    <tr>\n",
       "      <th>202</th>\n",
       "      <td>202</td>\n",
       "      <td>16000277</td>\n",
       "      <td>2</td>\n",
       "      <td>1.0</td>\n",
       "      <td>0</td>\n",
       "    </tr>\n",
       "    <tr>\n",
       "      <th>203</th>\n",
       "      <td>203</td>\n",
       "      <td>16000277</td>\n",
       "      <td>2</td>\n",
       "      <td>3.0</td>\n",
       "      <td>1</td>\n",
       "    </tr>\n",
       "    <tr>\n",
       "      <th>204</th>\n",
       "      <td>204</td>\n",
       "      <td>16000277</td>\n",
       "      <td>2</td>\n",
       "      <td>5.0</td>\n",
       "      <td>1</td>\n",
       "    </tr>\n",
       "    <tr>\n",
       "      <th>205</th>\n",
       "      <td>205</td>\n",
       "      <td>16000277</td>\n",
       "      <td>2</td>\n",
       "      <td>5.0</td>\n",
       "      <td>1</td>\n",
       "    </tr>\n",
       "    <tr>\n",
       "      <th>206</th>\n",
       "      <td>206</td>\n",
       "      <td>16000277</td>\n",
       "      <td>2</td>\n",
       "      <td>5.0</td>\n",
       "      <td>1</td>\n",
       "    </tr>\n",
       "  </tbody>\n",
       "</table>\n",
       "<p>207 rows × 5 columns</p>\n",
       "</div>"
      ],
      "text/plain": [
       "     num        id  states  durations  durations_log\n",
       "0      0  16000277       0       68.0              4\n",
       "1      1  16000277       0       22.0              3\n",
       "2      2  16000277       0       69.0              4\n",
       "3      3  16000277       0        9.0              2\n",
       "4      4  16000277       0       58.0              4\n",
       "..   ...       ...     ...        ...            ...\n",
       "202  202  16000277       2        1.0              0\n",
       "203  203  16000277       2        3.0              1\n",
       "204  204  16000277       2        5.0              1\n",
       "205  205  16000277       2        5.0              1\n",
       "206  206  16000277       2        5.0              1\n",
       "\n",
       "[207 rows x 5 columns]"
      ]
     },
     "execution_count": 9,
     "metadata": {},
     "output_type": "execute_result"
    }
   ],
   "source": [
    "df0 = df[df.id == df.id[0]]\n",
    "df0"
   ]
  },
  {
   "cell_type": "code",
   "execution_count": 10,
   "metadata": {},
   "outputs": [
    {
     "data": {
      "text/plain": [
       "array([[0.01923077, 0.25      , 0.13461538, 0.09615385, 0.5       ],\n",
       "       [0.01538462, 0.18461538, 0.32307692, 0.21538462, 0.26153846],\n",
       "       [0.15555556, 0.6       , 0.16666667, 0.03333333, 0.04444444]])"
      ]
     },
     "execution_count": 10,
     "metadata": {},
     "output_type": "execute_result"
    }
   ],
   "source": [
    "durations0 = np.zeros((n_states, n_durations))\n",
    "\n",
    "for state in range(n_states):\n",
    "    total = (df0.states == state).sum()\n",
    "    for duration in range(n_durations):\n",
    "        num = ((df0.states == state) & (df0.durations_log == duration)).sum()\n",
    "        durations0[state, duration] = num / total\n",
    "durations0"
   ]
  },
  {
   "cell_type": "code",
   "execution_count": 11,
   "metadata": {},
   "outputs": [],
   "source": [
    "# observations0 = []\n",
    "# for i in range(len(df0)):\n",
    "#     observations0.extend([df0.states[i]] * int(df0.durations_log[i] + 1))\n",
    "# observations0 = np.array(observations0)\n",
    "# len(observations0)"
   ]
  },
  {
   "cell_type": "code",
   "execution_count": 12,
   "metadata": {},
   "outputs": [],
   "source": [
    "tmat = np.array([\n",
    "    [0.0, 0.5, 0.5],\n",
    "    [0.3, 0.0, 0.7],\n",
    "    [0.6, 0.4, 0.0]\n",
    "])\n",
    "\n",
    "means = np.array([0.0, 1.0, 2.0])\n",
    "scales = np.ones_like(means)"
   ]
  },
  {
   "cell_type": "code",
   "execution_count": 13,
   "metadata": {},
   "outputs": [],
   "source": [
    "hsmm0 = GaussianHSMM(means, scales, durations0, tmat)"
   ]
  },
  {
   "cell_type": "code",
   "execution_count": 14,
   "metadata": {},
   "outputs": [
    {
     "data": {
      "text/plain": [
       "0      0\n",
       "1      0\n",
       "2      0\n",
       "3      0\n",
       "4      0\n",
       "      ..\n",
       "202    2\n",
       "203    2\n",
       "204    2\n",
       "205    2\n",
       "206    2\n",
       "Name: states, Length: 207, dtype: int64"
      ]
     },
     "execution_count": 14,
     "metadata": {},
     "output_type": "execute_result"
    }
   ],
   "source": [
    "df0.states"
   ]
  },
  {
   "cell_type": "code",
   "execution_count": 15,
   "metadata": {},
   "outputs": [
    {
     "ename": "NoConvergenceError",
     "evalue": "The forward-backward algorithm encountered an internal error after 1 steps. Try reducing the `num_iter` parameter. Log-likelihood procession: [].",
     "output_type": "error",
     "traceback": [
      "\u001b[0;31m---------------------------------------------------------------------------\u001b[0m",
      "\u001b[0;31mNoConvergenceError\u001b[0m                        Traceback (most recent call last)",
      "\u001b[0;32m<ipython-input-15-cd7c0ef4b556>\u001b[0m in \u001b[0;36m<module>\u001b[0;34m\u001b[0m\n\u001b[0;32m----> 1\u001b[0;31m \u001b[0mhsmm0\u001b[0m\u001b[0;34m.\u001b[0m\u001b[0mfit\u001b[0m\u001b[0;34m(\u001b[0m\u001b[0mdf\u001b[0m\u001b[0;34m.\u001b[0m\u001b[0mstates\u001b[0m\u001b[0;34m)\u001b[0m\u001b[0;34m\u001b[0m\u001b[0;34m\u001b[0m\u001b[0m\n\u001b[0m",
      "\u001b[0;32m~/miniconda3/envs/hsmm/lib/python3.8/site-packages/hsmmlearn/hsmm.py\u001b[0m in \u001b[0;36mfit\u001b[0;34m(self, obs, max_iter, atol, censoring)\u001b[0m\n\u001b[1;32m    294\u001b[0m             \u001b[0mself\u001b[0m\u001b[0;34m.\u001b[0m\u001b[0mdurations\u001b[0m \u001b[0;34m=\u001b[0m \u001b[0mold_durations\u001b[0m\u001b[0;34m\u001b[0m\u001b[0;34m\u001b[0m\u001b[0m\n\u001b[1;32m    295\u001b[0m             \u001b[0mself\u001b[0m\u001b[0;34m.\u001b[0m\u001b[0m_startprob\u001b[0m \u001b[0;34m=\u001b[0m \u001b[0mold_startprob\u001b[0m\u001b[0;34m\u001b[0m\u001b[0;34m\u001b[0m\u001b[0m\n\u001b[0;32m--> 296\u001b[0;31m             raise NoConvergenceError(\n\u001b[0m\u001b[1;32m    297\u001b[0m                 \u001b[0;34m\"The forward-backward algorithm encountered an internal error \"\u001b[0m\u001b[0;34m\u001b[0m\u001b[0;34m\u001b[0m\u001b[0m\n\u001b[1;32m    298\u001b[0m                 \u001b[0;34m\"after {} steps. Try reducing the `num_iter` parameter. \"\u001b[0m\u001b[0;34m\u001b[0m\u001b[0;34m\u001b[0m\u001b[0m\n",
      "\u001b[0;31mNoConvergenceError\u001b[0m: The forward-backward algorithm encountered an internal error after 1 steps. Try reducing the `num_iter` parameter. Log-likelihood procession: []."
     ]
    }
   ],
   "source": [
    "hsmm0.fit(df.states)"
   ]
  },
  {
   "cell_type": "code",
   "execution_count": 16,
   "metadata": {},
   "outputs": [
    {
     "data": {
      "text/plain": [
       "(False, 1132.0419557693583)"
      ]
     },
     "execution_count": 16,
     "metadata": {},
     "output_type": "execute_result"
    }
   ],
   "source": [
    "hsmm0.fit(df0.durations_log)"
   ]
  }
 ],
 "metadata": {
  "interpreter": {
   "hash": "031349a087c843137d2428832ad4bf54e498188683e99d07d622f03f52336ffc"
  },
  "kernelspec": {
   "display_name": "Python 3.8.12 64-bit ('hsmm': conda)",
   "language": "python",
   "name": "python3"
  },
  "language_info": {
   "codemirror_mode": {
    "name": "ipython",
    "version": 3
   },
   "file_extension": ".py",
   "mimetype": "text/x-python",
   "name": "python",
   "nbconvert_exporter": "python",
   "pygments_lexer": "ipython3",
   "version": "3.8.12"
  },
  "orig_nbformat": 4
 },
 "nbformat": 4,
 "nbformat_minor": 2
}
