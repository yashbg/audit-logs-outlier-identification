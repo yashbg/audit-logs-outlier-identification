{
 "cells": [
  {
   "cell_type": "code",
   "execution_count": 5,
   "metadata": {},
   "outputs": [],
   "source": [
    "import numpy as np\n",
    "import pandas as pd\n",
    "from hsmmlearn.hsmm import GaussianHSMM"
   ]
  },
  {
   "cell_type": "code",
   "execution_count": 9,
   "metadata": {},
   "outputs": [
    {
     "data": {
      "text/html": [
       "<div>\n",
       "<style scoped>\n",
       "    .dataframe tbody tr th:only-of-type {\n",
       "        vertical-align: middle;\n",
       "    }\n",
       "\n",
       "    .dataframe tbody tr th {\n",
       "        vertical-align: top;\n",
       "    }\n",
       "\n",
       "    .dataframe thead th {\n",
       "        text-align: right;\n",
       "    }\n",
       "</style>\n",
       "<table border=\"1\" class=\"dataframe\">\n",
       "  <thead>\n",
       "    <tr style=\"text-align: right;\">\n",
       "      <th></th>\n",
       "      <th>num</th>\n",
       "      <th>id</th>\n",
       "      <th>states</th>\n",
       "      <th>durations</th>\n",
       "    </tr>\n",
       "  </thead>\n",
       "  <tbody>\n",
       "    <tr>\n",
       "      <th>0</th>\n",
       "      <td>0</td>\n",
       "      <td>16000277</td>\n",
       "      <td>0</td>\n",
       "      <td>68.0</td>\n",
       "    </tr>\n",
       "    <tr>\n",
       "      <th>1</th>\n",
       "      <td>1</td>\n",
       "      <td>16000277</td>\n",
       "      <td>0</td>\n",
       "      <td>22.0</td>\n",
       "    </tr>\n",
       "    <tr>\n",
       "      <th>2</th>\n",
       "      <td>2</td>\n",
       "      <td>16000277</td>\n",
       "      <td>0</td>\n",
       "      <td>69.0</td>\n",
       "    </tr>\n",
       "    <tr>\n",
       "      <th>3</th>\n",
       "      <td>3</td>\n",
       "      <td>16000277</td>\n",
       "      <td>0</td>\n",
       "      <td>9.0</td>\n",
       "    </tr>\n",
       "    <tr>\n",
       "      <th>4</th>\n",
       "      <td>4</td>\n",
       "      <td>16000277</td>\n",
       "      <td>0</td>\n",
       "      <td>58.0</td>\n",
       "    </tr>\n",
       "    <tr>\n",
       "      <th>...</th>\n",
       "      <td>...</td>\n",
       "      <td>...</td>\n",
       "      <td>...</td>\n",
       "      <td>...</td>\n",
       "    </tr>\n",
       "    <tr>\n",
       "      <th>6394</th>\n",
       "      <td>27</td>\n",
       "      <td>3004067</td>\n",
       "      <td>2</td>\n",
       "      <td>108.0</td>\n",
       "    </tr>\n",
       "    <tr>\n",
       "      <th>6395</th>\n",
       "      <td>28</td>\n",
       "      <td>3004067</td>\n",
       "      <td>1</td>\n",
       "      <td>24.0</td>\n",
       "    </tr>\n",
       "    <tr>\n",
       "      <th>6396</th>\n",
       "      <td>29</td>\n",
       "      <td>3004067</td>\n",
       "      <td>1</td>\n",
       "      <td>3.0</td>\n",
       "    </tr>\n",
       "    <tr>\n",
       "      <th>6397</th>\n",
       "      <td>30</td>\n",
       "      <td>3004067</td>\n",
       "      <td>1</td>\n",
       "      <td>3.0</td>\n",
       "    </tr>\n",
       "    <tr>\n",
       "      <th>6398</th>\n",
       "      <td>31</td>\n",
       "      <td>3004067</td>\n",
       "      <td>1</td>\n",
       "      <td>5.0</td>\n",
       "    </tr>\n",
       "  </tbody>\n",
       "</table>\n",
       "<p>6399 rows × 4 columns</p>\n",
       "</div>"
      ],
      "text/plain": [
       "      num        id  states  durations\n",
       "0       0  16000277       0       68.0\n",
       "1       1  16000277       0       22.0\n",
       "2       2  16000277       0       69.0\n",
       "3       3  16000277       0        9.0\n",
       "4       4  16000277       0       58.0\n",
       "...   ...       ...     ...        ...\n",
       "6394   27   3004067       2      108.0\n",
       "6395   28   3004067       1       24.0\n",
       "6396   29   3004067       1        3.0\n",
       "6397   30   3004067       1        3.0\n",
       "6398   31   3004067       1        5.0\n",
       "\n",
       "[6399 rows x 4 columns]"
      ]
     },
     "execution_count": 9,
     "metadata": {},
     "output_type": "execute_result"
    }
   ],
   "source": [
    "df = pd.read_csv('hsmm_data.csv')\n",
    "df.columns = ['num', 'id', 'states', 'durations']\n",
    "df"
   ]
  },
  {
   "cell_type": "code",
   "execution_count": 38,
   "metadata": {},
   "outputs": [
    {
     "data": {
      "text/plain": [
       "0       2.0\n",
       "1       0.0\n",
       "2       2.0\n",
       "3       0.0\n",
       "4       1.0\n",
       "       ... \n",
       "6394    3.0\n",
       "6395    0.0\n",
       "6396    0.0\n",
       "6397    0.0\n",
       "6398    0.0\n",
       "Name: durations, Length: 6399, dtype: float64"
      ]
     },
     "execution_count": 38,
     "metadata": {},
     "output_type": "execute_result"
    }
   ],
   "source": [
    "# durations in terms of 30 seconds\n",
    "df.durations //= 30\n",
    "df.durations"
   ]
  },
  {
   "cell_type": "code",
   "execution_count": 41,
   "metadata": {},
   "outputs": [
    {
     "data": {
      "text/plain": [
       "array([ 2.,  0.,  1.,  3.,  5.,  4.,  8., 10.,  7.,  9., 12.,  6., 11.])"
      ]
     },
     "execution_count": 41,
     "metadata": {},
     "output_type": "execute_result"
    }
   ],
   "source": [
    "# clip durations to max 6 minutes\n",
    "df.loc[df.durations > 12, 'durations'] = 12\n",
    "df.durations.unique()"
   ]
  },
  {
   "cell_type": "code",
   "execution_count": 42,
   "metadata": {},
   "outputs": [
    {
     "data": {
      "text/html": [
       "<div>\n",
       "<style scoped>\n",
       "    .dataframe tbody tr th:only-of-type {\n",
       "        vertical-align: middle;\n",
       "    }\n",
       "\n",
       "    .dataframe tbody tr th {\n",
       "        vertical-align: top;\n",
       "    }\n",
       "\n",
       "    .dataframe thead th {\n",
       "        text-align: right;\n",
       "    }\n",
       "</style>\n",
       "<table border=\"1\" class=\"dataframe\">\n",
       "  <thead>\n",
       "    <tr style=\"text-align: right;\">\n",
       "      <th></th>\n",
       "      <th>num</th>\n",
       "      <th>id</th>\n",
       "      <th>states</th>\n",
       "      <th>durations</th>\n",
       "    </tr>\n",
       "  </thead>\n",
       "  <tbody>\n",
       "    <tr>\n",
       "      <th>0</th>\n",
       "      <td>0</td>\n",
       "      <td>16000277</td>\n",
       "      <td>0</td>\n",
       "      <td>2.0</td>\n",
       "    </tr>\n",
       "    <tr>\n",
       "      <th>1</th>\n",
       "      <td>1</td>\n",
       "      <td>16000277</td>\n",
       "      <td>0</td>\n",
       "      <td>0.0</td>\n",
       "    </tr>\n",
       "    <tr>\n",
       "      <th>2</th>\n",
       "      <td>2</td>\n",
       "      <td>16000277</td>\n",
       "      <td>0</td>\n",
       "      <td>2.0</td>\n",
       "    </tr>\n",
       "    <tr>\n",
       "      <th>3</th>\n",
       "      <td>3</td>\n",
       "      <td>16000277</td>\n",
       "      <td>0</td>\n",
       "      <td>0.0</td>\n",
       "    </tr>\n",
       "    <tr>\n",
       "      <th>4</th>\n",
       "      <td>4</td>\n",
       "      <td>16000277</td>\n",
       "      <td>0</td>\n",
       "      <td>1.0</td>\n",
       "    </tr>\n",
       "    <tr>\n",
       "      <th>...</th>\n",
       "      <td>...</td>\n",
       "      <td>...</td>\n",
       "      <td>...</td>\n",
       "      <td>...</td>\n",
       "    </tr>\n",
       "    <tr>\n",
       "      <th>6394</th>\n",
       "      <td>27</td>\n",
       "      <td>3004067</td>\n",
       "      <td>2</td>\n",
       "      <td>3.0</td>\n",
       "    </tr>\n",
       "    <tr>\n",
       "      <th>6395</th>\n",
       "      <td>28</td>\n",
       "      <td>3004067</td>\n",
       "      <td>1</td>\n",
       "      <td>0.0</td>\n",
       "    </tr>\n",
       "    <tr>\n",
       "      <th>6396</th>\n",
       "      <td>29</td>\n",
       "      <td>3004067</td>\n",
       "      <td>1</td>\n",
       "      <td>0.0</td>\n",
       "    </tr>\n",
       "    <tr>\n",
       "      <th>6397</th>\n",
       "      <td>30</td>\n",
       "      <td>3004067</td>\n",
       "      <td>1</td>\n",
       "      <td>0.0</td>\n",
       "    </tr>\n",
       "    <tr>\n",
       "      <th>6398</th>\n",
       "      <td>31</td>\n",
       "      <td>3004067</td>\n",
       "      <td>1</td>\n",
       "      <td>0.0</td>\n",
       "    </tr>\n",
       "  </tbody>\n",
       "</table>\n",
       "<p>6399 rows × 4 columns</p>\n",
       "</div>"
      ],
      "text/plain": [
       "      num        id  states  durations\n",
       "0       0  16000277       0        2.0\n",
       "1       1  16000277       0        0.0\n",
       "2       2  16000277       0        2.0\n",
       "3       3  16000277       0        0.0\n",
       "4       4  16000277       0        1.0\n",
       "...   ...       ...     ...        ...\n",
       "6394   27   3004067       2        3.0\n",
       "6395   28   3004067       1        0.0\n",
       "6396   29   3004067       1        0.0\n",
       "6397   30   3004067       1        0.0\n",
       "6398   31   3004067       1        0.0\n",
       "\n",
       "[6399 rows x 4 columns]"
      ]
     },
     "execution_count": 42,
     "metadata": {},
     "output_type": "execute_result"
    }
   ],
   "source": [
    "df"
   ]
  },
  {
   "cell_type": "code",
   "execution_count": 51,
   "metadata": {},
   "outputs": [
    {
     "data": {
      "text/plain": [
       "array([[0.54104254, 0.09706411, 0.05632115, 0.03654883, 0.03295386,\n",
       "        0.02396645, 0.03295386, 0.02696225, 0.01917316, 0.01318155,\n",
       "        0.01497903, 0.01018574, 0.09466747],\n",
       "       [0.69171271, 0.08287293, 0.03425414, 0.02173112, 0.02946593,\n",
       "        0.01915285, 0.0198895 , 0.01178637, 0.00810313, 0.01031308,\n",
       "        0.00589319, 0.00626151, 0.05856354],\n",
       "       [0.78461538, 0.06401985, 0.02233251, 0.01885856, 0.01885856,\n",
       "        0.01488834, 0.00843672, 0.01191067, 0.00397022, 0.00347395,\n",
       "        0.00347395, 0.00347395, 0.04168734]])"
      ]
     },
     "execution_count": 51,
     "metadata": {},
     "output_type": "execute_result"
    }
   ],
   "source": [
    "# find durations matrix from the data (could be done using the `fit` method also (?))\n",
    "# Each row corresponds to a hidden state, with the `i`-th entry the probability of seeing duration `i` in that state.\n",
    "durations = np.zeros((3, 13))\n",
    "\n",
    "for state in range(3):\n",
    "    total = (df.states == state).sum()\n",
    "    for duration in range(13):\n",
    "        num = ((df.states == state) & (df.durations == duration)).sum()\n",
    "        durations[state, duration] = num / total\n",
    "durations"
   ]
  },
  {
   "cell_type": "code",
   "execution_count": null,
   "metadata": {},
   "outputs": [],
   "source": [
    "# for `fit` method, observations should have each observation (here, `states`) for the corresponding `duration` number of instances\n",
    "# and we should find these observations for each student separately so that we can found the outliers based on the parameters of the model for each student"
   ]
  }
 ],
 "metadata": {
  "interpreter": {
   "hash": "031349a087c843137d2428832ad4bf54e498188683e99d07d622f03f52336ffc"
  },
  "kernelspec": {
   "display_name": "Python 3.8.12 64-bit ('hsmm': conda)",
   "language": "python",
   "name": "python3"
  },
  "language_info": {
   "codemirror_mode": {
    "name": "ipython",
    "version": 3
   },
   "file_extension": ".py",
   "mimetype": "text/x-python",
   "name": "python",
   "nbconvert_exporter": "python",
   "pygments_lexer": "ipython3",
   "version": "3.8.12"
  },
  "orig_nbformat": 4
 },
 "nbformat": 4,
 "nbformat_minor": 2
}
